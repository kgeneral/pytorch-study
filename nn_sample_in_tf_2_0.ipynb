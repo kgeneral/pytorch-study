{
  "nbformat": 4,
  "nbformat_minor": 0,
  "metadata": {
    "colab": {
      "name": "nn sample in tf 2.0.ipynb",
      "provenance": [],
      "collapsed_sections": [],
      "toc_visible": true,
      "include_colab_link": true
    },
    "kernelspec": {
      "name": "python3",
      "display_name": "Python 3"
    },
    "accelerator": "GPU"
  },
  "cells": [
    {
      "cell_type": "markdown",
      "metadata": {
        "id": "view-in-github",
        "colab_type": "text"
      },
      "source": [
        "<a href=\"https://colab.research.google.com/github/kgeneral/pytorch-study/blob/master/nn_sample_in_tf_2_0.ipynb\" target=\"_parent\"><img src=\"https://colab.research.google.com/assets/colab-badge.svg\" alt=\"Open In Colab\"/></a>"
      ]
    },
    {
      "cell_type": "markdown",
      "metadata": {
        "colab_type": "text",
        "id": "nnrWf3PCEzXL"
      },
      "source": [
        "Download and install the TensorFlow 2 package. Import TensorFlow into your program:"
      ]
    },
    {
      "cell_type": "code",
      "metadata": {
        "colab_type": "code",
        "id": "0trJmd6DjqBZ",
        "colab": {}
      },
      "source": [
        "from __future__ import absolute_import, division, print_function, unicode_literals\n",
        "\n",
        "# Install TensorFlow\n",
        "try:\n",
        "  # %tensorflow_version only exists in Colab.\n",
        "  %tensorflow_version 2.x\n",
        "except Exception:\n",
        "  pass\n",
        "\n",
        "import tensorflow as tf"
      ],
      "execution_count": 0,
      "outputs": []
    },
    {
      "cell_type": "code",
      "metadata": {
        "id": "7-5gn4AiwXOJ",
        "colab_type": "code",
        "colab": {}
      },
      "source": [
        "from tqdm import tqdm\n",
        "import matplotlib.pyplot as plt\n",
        "import seaborn as sns"
      ],
      "execution_count": 0,
      "outputs": []
    },
    {
      "cell_type": "code",
      "metadata": {
        "colab_type": "code",
        "id": "7FP5258xjs-v",
        "colab": {}
      },
      "source": [
        "num_data = 1000\n",
        "num_epoch = 10000\n",
        "\n",
        "noise = tf.random.normal(shape=[1000,1]) #init.normal_(torch.FloatTensor(num_data,1),std=1)\n",
        "x = tf.random.uniform(shape=[1000,1], minval=-15, maxval=15) #init.uniform_(torch.Tensor(num_data,1),-15,15)\n",
        "y = (x**2) + 3 \n",
        "y_noise = y + noise"
      ],
      "execution_count": 0,
      "outputs": []
    },
    {
      "cell_type": "code",
      "metadata": {
        "id": "S23SL2BIxqIG",
        "colab_type": "code",
        "colab": {}
      },
      "source": [
        "sns.distplot(noise)"
      ],
      "execution_count": 0,
      "outputs": []
    },
    {
      "cell_type": "code",
      "metadata": {
        "id": "FV6_jwEYx-RI",
        "colab_type": "code",
        "colab": {}
      },
      "source": [
        "sns.distplot(x)"
      ],
      "execution_count": 0,
      "outputs": []
    },
    {
      "cell_type": "code",
      "metadata": {
        "colab_type": "code",
        "id": "h3IKyzTCDNGo",
        "colab": {}
      },
      "source": [
        "\"\"\"\n",
        "model = nn.Sequential(\n",
        "          nn.Linear(1,6),\n",
        "          nn.ReLU(),\n",
        "          nn.Linear(6,10),\n",
        "          nn.ReLU(),\n",
        "          nn.Linear(10,6),\n",
        "          nn.ReLU(),\n",
        "          nn.Linear(6,1),\n",
        "      )\n",
        "\"\"\"\n",
        "model = tf.keras.models.Sequential([\n",
        "  tf.keras.layers.Dense(6, input_shape=(1,), activation='relu'),\n",
        "  tf.keras.layers.Dense(10, activation='relu'),\n",
        "  tf.keras.layers.Dense(6, activation='relu'),\n",
        "  tf.keras.layers.Dense(1),\n",
        "])\n",
        "\n",
        "\n",
        "\"\"\"\n",
        "loss_func = nn.L1Loss()\n",
        "optimizer = optim.SGD(model.parameters(),lr=0.0002)\n",
        "\"\"\"\n",
        "\n",
        "model.compile(optimizer=tf.keras.optimizers.SGD(learning_rate=0.0002),\n",
        "              loss='MAE', # tf.keras.losses.mean_absolute_error\n",
        "              metrics=['MAE'])\n",
        "\n",
        "model.summary()"
      ],
      "execution_count": 0,
      "outputs": []
    },
    {
      "cell_type": "code",
      "metadata": {
        "colab_type": "code",
        "id": "mL4lKTrB2aaz",
        "colab": {}
      },
      "source": [
        "from time import time\n",
        "cur_epochtime = int(time())\n",
        "\n",
        "model.fit(x, y_noise, epochs=10000, steps_per_epoch=1, verbose=0)\n",
        "\n",
        "elapsed_sec = int(time()) - cur_epochtime\n",
        "print(elapsed_sec)"
      ],
      "execution_count": 0,
      "outputs": []
    },
    {
      "cell_type": "markdown",
      "metadata": {
        "id": "H0il-1MX2fnS",
        "colab_type": "text"
      },
      "source": [
        "Train on 1000 samples\n",
        "Epoch 1/10000\n",
        "1000/1000 [==============================] - 2s 2ms/sample - loss: 75.2726 - MAE: 75.2726\n",
        "Epoch 2/10000\n",
        "1000/1000 [==============================] - 0s 75us/sample - loss: 75.0854 - MAE: 75.0854\n",
        "Epoch 3/10000\n",
        "1000/1000 [==============================] - 0s 76us/sample - loss: 74.8780 - MAE: 74.8780\n",
        "Epoch 4/10000\n",
        "1000/1000 [==============================] - 0s 75us/sample - loss: 74.6539 - MAE: 74.6539\n",
        "Epoch 5/10000\n",
        "1000/1000 [==============================] - 0s 83us/sample - loss: 74.4063 - MAE: 74.4063\n",
        "Epoch 6/10000\n",
        "1000/1000 [==============================] - 0s 75us/sample - loss: 74.1331 - MAE: 74.1331\n",
        "Epoch 7/10000\n",
        "1000/1000 [==============================] - 0s 82us/sample - loss: 73.8291 - MAE: 73.8291\n",
        "..."
      ]
    },
    {
      "cell_type": "code",
      "metadata": {
        "id": "Qxrn606D1SNP",
        "colab_type": "code",
        "colab": {}
      },
      "source": [
        "y_pred = model.predict(x)\n"
      ],
      "execution_count": 0,
      "outputs": []
    },
    {
      "cell_type": "code",
      "metadata": {
        "id": "4tRuf4OK1SQ4",
        "colab_type": "code",
        "colab": {}
      },
      "source": [
        "plt.figure(figsize=(10,10))\n",
        "plt.scatter(x.numpy(),y_noise,label=\"Original Data\")\n",
        "plt.scatter(x.numpy(),y_pred,label=\"Model Output\")\n",
        "plt.legend()\n",
        "plt.show()"
      ],
      "execution_count": 0,
      "outputs": []
    },
    {
      "cell_type": "code",
      "metadata": {
        "id": "p5b7CRL15dtz",
        "colab_type": "code",
        "colab": {}
      },
      "source": [
        ""
      ],
      "execution_count": 0,
      "outputs": []
    }
  ]
}