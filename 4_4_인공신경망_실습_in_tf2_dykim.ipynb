{
  "nbformat": 4,
  "nbformat_minor": 0,
  "metadata": {
    "colab": {
      "name": "4.4 인공신경망 실습 in tf2 - dykim.ipynb",
      "provenance": [],
      "collapsed_sections": [],
      "include_colab_link": true
    },
    "kernelspec": {
      "name": "python3",
      "display_name": "Python 3"
    },
    "accelerator": "GPU"
  },
  "cells": [
    {
      "cell_type": "markdown",
      "metadata": {
        "id": "view-in-github",
        "colab_type": "text"
      },
      "source": [
        "<a href=\"https://colab.research.google.com/github/kgeneral/pytorch-study/blob/master/4_4_%EC%9D%B8%EA%B3%B5%EC%8B%A0%EA%B2%BD%EB%A7%9D_%EC%8B%A4%EC%8A%B5_in_tf2_dykim.ipynb\" target=\"_parent\"><img src=\"https://colab.research.google.com/assets/colab-badge.svg\" alt=\"Open In Colab\"/></a>"
      ]
    },
    {
      "cell_type": "markdown",
      "metadata": {
        "colab_type": "text",
        "id": "8Xl-ULdJEnE3"
      },
      "source": [
        "# 인공신경망 모델의 학습\n"
      ]
    },
    {
      "cell_type": "markdown",
      "metadata": {
        "id": "A0eJo_1TsZIw",
        "colab_type": "text"
      },
      "source": [
        "## 필요한 라이브러리 불러오기"
      ]
    },
    {
      "cell_type": "code",
      "metadata": {
        "id": "qN-8x9ok7_Rh",
        "colab_type": "code",
        "outputId": "331bd710-e6e6-40ec-dfa5-1d8ea9d095c2",
        "colab": {
          "base_uri": "https://localhost:8080/",
          "height": 34
        }
      },
      "source": [
        "from __future__ import absolute_import, division, print_function, unicode_literals\n",
        "\n",
        "# Install TensorFlow\n",
        "try:\n",
        "  # %tensorflow_version only exists in Colab.\n",
        "  %tensorflow_version 2.x\n",
        "except Exception:\n",
        "  pass\n",
        "\n",
        "import tensorflow as tf"
      ],
      "execution_count": 1,
      "outputs": [
        {
          "output_type": "stream",
          "text": [
            "TensorFlow 2.x selected.\n"
          ],
          "name": "stdout"
        }
      ]
    },
    {
      "cell_type": "code",
      "metadata": {
        "id": "_kqlvHnZ_iqb",
        "colab_type": "code",
        "colab": {}
      },
      "source": [
        "from tqdm import tqdm\n",
        "import matplotlib.pyplot as plt\n",
        "import seaborn as sns"
      ],
      "execution_count": 0,
      "outputs": []
    },
    {
      "cell_type": "markdown",
      "metadata": {
        "id": "BfXQ4EJ1sR5Y",
        "colab_type": "text"
      },
      "source": [
        "## 데이터 생성"
      ]
    },
    {
      "cell_type": "code",
      "metadata": {
        "id": "OrRWI9QBsI8U",
        "colab_type": "code",
        "colab": {}
      },
      "source": [
        "num_data = 1000\n",
        "num_epoch = 10000\n",
        "\n",
        "noise = tf.random.normal(shape=[1000,1]) #init.normal_(torch.FloatTensor(num_data,1),std=1)\n",
        "x = tf.random.uniform(shape=[1000,1], minval=-15, maxval=15) #init.uniform_(torch.Tensor(num_data,1),-15,15)\n",
        "y = (x**2) + 3 \n",
        "y_noise = y + noise"
      ],
      "execution_count": 0,
      "outputs": []
    },
    {
      "cell_type": "code",
      "metadata": {
        "id": "2Y3VQrqKwEEh",
        "colab_type": "code",
        "outputId": "5857500c-1c09-427b-9fcb-4c11f6741660",
        "colab": {
          "base_uri": "https://localhost:8080/",
          "height": 282
        }
      },
      "source": [
        "sns.distplot(noise)"
      ],
      "execution_count": 4,
      "outputs": [
        {
          "output_type": "execute_result",
          "data": {
            "text/plain": [
              "<matplotlib.axes._subplots.AxesSubplot at 0x7f82edab0ac8>"
            ]
          },
          "metadata": {
            "tags": []
          },
          "execution_count": 4
        },
        {
          "output_type": "display_data",
          "data": {
            "image/png": "[encoded data removed]",
            "text/plain": [
              "<Figure size 432x288 with 1 Axes>"
            ]
          },
          "metadata": {
            "tags": []
          }
        }
      ]
    },
    {
      "cell_type": "code",
      "metadata": {
        "id": "UgybXFBix5-y",
        "colab_type": "code",
        "outputId": "05cc26c7-e5fb-4468-b0d9-67ce4b7512f5",
        "colab": {
          "base_uri": "https://localhost:8080/",
          "height": 284
        }
      },
      "source": [
        "sns.distplot(x)"
      ],
      "execution_count": 5,
      "outputs": [
        {
          "output_type": "execute_result",
          "data": {
            "text/plain": [
              "<matplotlib.axes._subplots.AxesSubplot at 0x7f82e011d5f8>"
            ]
          },
          "metadata": {
            "tags": []
          },
          "execution_count": 5
        },
        {
          "output_type": "display_data",
          "data": {
            "image/png": "[encoded data removed]",
            "text/plain": [
              "<Figure size 432x288 with 1 Axes>"
            ]
          },
          "metadata": {
            "tags": []
          }
        }
      ]
    },
    {
      "cell_type": "markdown",
      "metadata": {
        "id": "KTNOAQgwscKV",
        "colab_type": "text"
      },
      "source": [
        "# 모델, 손실 함수, 최적화 함수 설정"
      ]
    },
    {
      "cell_type": "code",
      "metadata": {
        "id": "FJMeNlCWsJEp",
        "colab_type": "code",
        "outputId": "ecf9ab30-2cda-408d-c13c-7eff7f1e11ae",
        "colab": {
          "base_uri": "https://localhost:8080/",
          "height": 289
        }
      },
      "source": [
        "\"\"\"\n",
        "model = nn.Sequential(\n",
        "          nn.Linear(1,6),\n",
        "          nn.ReLU(),\n",
        "          nn.Linear(6,10),\n",
        "          nn.ReLU(),\n",
        "          nn.Linear(10,6),\n",
        "          nn.ReLU(),\n",
        "          nn.Linear(6,1),\n",
        "      )\n",
        "\"\"\"\n",
        "model = tf.keras.models.Sequential([\n",
        "  tf.keras.layers.Dense(6, input_shape=(1,), activation='relu'),\n",
        "  tf.keras.layers.Dense(10, activation='relu'),\n",
        "  tf.keras.layers.Dense(6, activation='relu'),\n",
        "  tf.keras.layers.Dense(1),\n",
        "])\n",
        "\n",
        "\n",
        "\"\"\"\n",
        "loss_func = nn.L1Loss()\n",
        "optimizer = optim.SGD(model.parameters(),lr=0.0002)\n",
        "\"\"\"\n",
        "\n",
        "model.compile(optimizer=tf.keras.optimizers.SGD(learning_rate=0.0002),\n",
        "              loss='MAE', # tf.keras.losses.mean_absolute_error\n",
        "              metrics=['MAE'])\n",
        "\n",
        "model.summary()"
      ],
      "execution_count": 6,
      "outputs": [
        {
          "output_type": "stream",
          "text": [
            "Model: \"sequential\"\n",
            "_________________________________________________________________\n",
            "Layer (type)                 Output Shape              Param #   \n",
            "=================================================================\n",
            "dense (Dense)                (None, 6)                 12        \n",
            "_________________________________________________________________\n",
            "dense_1 (Dense)              (None, 10)                70        \n",
            "_________________________________________________________________\n",
            "dense_2 (Dense)              (None, 6)                 66        \n",
            "_________________________________________________________________\n",
            "dense_3 (Dense)              (None, 1)                 7         \n",
            "=================================================================\n",
            "Total params: 155\n",
            "Trainable params: 155\n",
            "Non-trainable params: 0\n",
            "_________________________________________________________________\n"
          ],
          "name": "stdout"
        }
      ]
    },
    {
      "cell_type": "markdown",
      "metadata": {
        "id": "Jsy40xAHsiQZ",
        "colab_type": "text"
      },
      "source": [
        "## 모델의 학습"
      ]
    },
    {
      "cell_type": "code",
      "metadata": {
        "id": "o0jakOd3sJR4",
        "colab_type": "code",
        "outputId": "4d7d313c-a50f-439c-863d-cc3b82c4023c",
        "colab": {
          "base_uri": "https://localhost:8080/",
          "height": 34
        }
      },
      "source": [
        "from time import time\n",
        "cur_epochtime = int(time())\n",
        "\n",
        "model.fit(x, y_noise, epochs=10000, steps_per_epoch=1, verbose=0)\n",
        "\n",
        "elapsed_sec = int(time()) - cur_epochtime\n",
        "print(elapsed_sec)"
      ],
      "execution_count": 7,
      "outputs": [
        {
          "output_type": "stream",
          "text": [
            "27\n"
          ],
          "name": "stdout"
        }
      ]
    },
    {
      "cell_type": "markdown",
      "metadata": {
        "id": "VLhQK3fUSyUI",
        "colab_type": "text"
      },
      "source": [
        "## 학습된 모델의 결과값과 실제 목표값의 비교"
      ]
    },
    {
      "cell_type": "code",
      "metadata": {
        "id": "nOq2wxdtFuBo",
        "colab_type": "code",
        "colab": {}
      },
      "source": [
        "y_pred = model.predict(x)\n"
      ],
      "execution_count": 0,
      "outputs": []
    },
    {
      "cell_type": "code",
      "metadata": {
        "id": "DSd6l2zQRjGG",
        "colab_type": "code",
        "outputId": "e1dc94cc-0825-4dec-e3ae-58d03ead1560",
        "colab": {
          "base_uri": "https://localhost:8080/",
          "height": 592
        }
      },
      "source": [
        "plt.figure(figsize=(10,10))\n",
        "plt.scatter(x.numpy(),y_noise,label=\"Original Data\")\n",
        "plt.scatter(x.numpy(),y_pred,label=\"Model Output\")\n",
        "plt.legend()\n",
        "plt.show()"
      ],
      "execution_count": 9,
      "outputs": [
        {
          "output_type": "display_data",
          "data": {
            "image/png": "[encoded data removed]",
            "text/plain": [
              "<Figure size 720x720 with 1 Axes>"
            ]
          },
          "metadata": {
            "tags": []
          }
        }
      ]
    },
    {
      "cell_type": "code",
      "metadata": {
        "id": "PpjrdBz6_g3-",
        "colab_type": "code",
        "colab": {}
      },
      "source": [
        ""
      ],
      "execution_count": 0,
      "outputs": []
    }
  ]
}