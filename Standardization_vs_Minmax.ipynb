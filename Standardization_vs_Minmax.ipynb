{
  "nbformat": 4,
  "nbformat_minor": 0,
  "metadata": {
    "colab": {
      "name": "Standardization vs Minmax.ipynb",
      "provenance": [],
      "collapsed_sections": [],
      "authorship_tag": "ABX9TyOT8eVdEkqRy2Oi37/FR4Yr",
      "include_colab_link": true
    },
    "kernelspec": {
      "name": "python3",
      "display_name": "Python 3"
    }
  },
  "cells": [
    {
      "cell_type": "markdown",
      "metadata": {
        "id": "view-in-github",
        "colab_type": "text"
      },
      "source": [
        "<a href=\"https://colab.research.google.com/github/kgeneral/pytorch-study/blob/master/Standardization_vs_Minmax.ipynb\" target=\"_parent\"><img src=\"https://colab.research.google.com/assets/colab-badge.svg\" alt=\"Open In Colab\"/></a>"
      ]
    },
    {
      "cell_type": "code",
      "metadata": {
        "id": "nIF-bD0FYT04",
        "colab_type": "code",
        "colab": {}
      },
      "source": [
        "import torch\n",
        "import torch.nn as nn\n",
        "import torch.optim as optim\n",
        "import torch.nn.init as init\n",
        "\n",
        "torch.cuda.is_available() # colab runtime type 만 GPU 로 전환하면 인식됨\n",
        "\n",
        "import numpy as np\n",
        "\n",
        "import matplotlib.pyplot as plt\n",
        "import seaborn as sns"
      ],
      "execution_count": 0,
      "outputs": []
    },
    {
      "cell_type": "code",
      "metadata": {
        "id": "xdKLbWKVYYKb",
        "colab_type": "code",
        "colab": {}
      },
      "source": [
        "num_data = 1000\n",
        "\n",
        "x_np = np.random.rand(num_data) * 2.23 #+ (np.random.rand(num_data) * 10.34) + np.random.rand(num_data) * 55.22\n",
        "x_np = np.append(x_np,np.random.rand(num_data) * 10.34)\n",
        "x_np = np.append(x_np,np.random.rand(num_data) * 55.34)\n",
        "x_np = np.append(x_np,[123] * 20)\n",
        "x_np = np.append(x_np,[124] * 40)\n",
        "x_np = np.append(x_np,[125] * 10)\n",
        "\n",
        "x = torch.Tensor(x)\n",
        "# torch.nn.init.uniform_(tensor, a=0.0, b=1.0)\n",
        "#x = init.uniform_(torch.Tensor(num_data,1),-15,150)\n",
        "#x.append(3853)"
      ],
      "execution_count": 0,
      "outputs": []
    },
    {
      "cell_type": "code",
      "metadata": {
        "id": "mTBy5pYiYbMY",
        "colab_type": "code",
        "colab": {
          "base_uri": "https://localhost:8080/",
          "height": 282
        },
        "outputId": "2be3a7f3-63be-494b-d271-18723338f1ff"
      },
      "source": [
        "sns.distplot(x)"
      ],
      "execution_count": 84,
      "outputs": [
        {
          "output_type": "execute_result",
          "data": {
            "text/plain": [
              "<matplotlib.axes._subplots.AxesSubplot at 0x7fec63afa5f8>"
            ]
          },
          "metadata": {
            "tags": []
          },
          "execution_count": 84
        },
        {
          "output_type": "display_data",
          "data": {
            "image/png": "[encoded data removed]",
            "text/plain": [
              "<Figure size 432x288 with 1 Axes>"
            ]
          },
          "metadata": {
            "tags": []
          }
        }
      ]
    },
    {
      "cell_type": "code",
      "metadata": {
        "id": "HjRqdN3VYbtb",
        "colab_type": "code",
        "colab": {
          "base_uri": "https://localhost:8080/",
          "height": 284
        },
        "outputId": "ddd041ab-9cb5-4e60-b85a-e9e09eae9fe6"
      },
      "source": [
        "# standardization\n",
        "\n",
        "mean = x.mean()\n",
        "std = x.std()\n",
        "x_std = (x - mean) / std\n",
        "sns.distplot(x_std)"
      ],
      "execution_count": 85,
      "outputs": [
        {
          "output_type": "execute_result",
          "data": {
            "text/plain": [
              "<matplotlib.axes._subplots.AxesSubplot at 0x7fec63a54d68>"
            ]
          },
          "metadata": {
            "tags": []
          },
          "execution_count": 85
        },
        {
          "output_type": "display_data",
          "data": {
            "image/png": "[encoded data removed]",
            "text/plain": [
              "<Figure size 432x288 with 1 Axes>"
            ]
          },
          "metadata": {
            "tags": []
          }
        }
      ]
    },
    {
      "cell_type": "code",
      "metadata": {
        "id": "_aRTwmnPexmk",
        "colab_type": "code",
        "colab": {
          "base_uri": "https://localhost:8080/",
          "height": 34
        },
        "outputId": "9689980a-2d3b-4456-cdf2-4ffd2637bad3"
      },
      "source": [
        "x_std.mean()"
      ],
      "execution_count": 86,
      "outputs": [
        {
          "output_type": "execute_result",
          "data": {
            "text/plain": [
              "tensor(3.6035e-08)"
            ]
          },
          "metadata": {
            "tags": []
          },
          "execution_count": 86
        }
      ]
    },
    {
      "cell_type": "code",
      "metadata": {
        "id": "k1XRCvjke1t7",
        "colab_type": "code",
        "colab": {
          "base_uri": "https://localhost:8080/",
          "height": 34
        },
        "outputId": "3aaeeda0-1be0-438e-9617-4af606c27b40"
      },
      "source": [
        "x_std.std()"
      ],
      "execution_count": 87,
      "outputs": [
        {
          "output_type": "execute_result",
          "data": {
            "text/plain": [
              "tensor(1.)"
            ]
          },
          "metadata": {
            "tags": []
          },
          "execution_count": 87
        }
      ]
    },
    {
      "cell_type": "code",
      "metadata": {
        "id": "6Ma2p7d4cz8S",
        "colab_type": "code",
        "colab": {
          "base_uri": "https://localhost:8080/",
          "height": 282
        },
        "outputId": "ecf236d0-6caf-41cb-b6c7-858e01cfeeb2"
      },
      "source": [
        "# min-max\n",
        "\n",
        "min_val = min(x)\n",
        "max_val = max(x)\n",
        "x_minmax = (x - min_val) / (max_val - min_val)\n",
        "sns.distplot(x_minmax)"
      ],
      "execution_count": 88,
      "outputs": [
        {
          "output_type": "execute_result",
          "data": {
            "text/plain": [
              "<matplotlib.axes._subplots.AxesSubplot at 0x7fec639412e8>"
            ]
          },
          "metadata": {
            "tags": []
          },
          "execution_count": 88
        },
        {
          "output_type": "display_data",
          "data": {
            "image/png": "[encoded data removed]",
            "text/plain": [
              "<Figure size 432x288 with 1 Axes>"
            ]
          },
          "metadata": {
            "tags": []
          }
        }
      ]
    },
    {
      "cell_type": "code",
      "metadata": {
        "id": "5rJSfg4ueYbM",
        "colab_type": "code",
        "colab": {
          "base_uri": "https://localhost:8080/",
          "height": 34
        },
        "outputId": "15580ba2-5fb5-40df-d89c-8a0ce5b5afa6"
      },
      "source": [
        "x_minmax.mean()"
      ],
      "execution_count": 89,
      "outputs": [
        {
          "output_type": "execute_result",
          "data": {
            "text/plain": [
              "tensor(0.1109)"
            ]
          },
          "metadata": {
            "tags": []
          },
          "execution_count": 89
        }
      ]
    },
    {
      "cell_type": "code",
      "metadata": {
        "id": "I98a-uiufEzj",
        "colab_type": "code",
        "colab": {
          "base_uri": "https://localhost:8080/",
          "height": 34
        },
        "outputId": "0c10894a-4c55-4eaf-b07a-23f5f3d14abc"
      },
      "source": [
        "x_minmax.std()"
      ],
      "execution_count": 90,
      "outputs": [
        {
          "output_type": "execute_result",
          "data": {
            "text/plain": [
              "tensor(0.1802)"
            ]
          },
          "metadata": {
            "tags": []
          },
          "execution_count": 90
        }
      ]
    },
    {
      "cell_type": "code",
      "metadata": {
        "id": "ZWEovNBXfFDa",
        "colab_type": "code",
        "colab": {
          "base_uri": "https://localhost:8080/",
          "height": 282
        },
        "outputId": "bf906158-9dd9-44ee-bba0-e147823d88b6"
      },
      "source": [
        "# feature clipping\n",
        "clipping_max = 60\n",
        "x_clipped = torch.Tensor(\n",
        "    [clipping_max if e > clipping_max else e for e in x_np]\n",
        ") \n",
        "sns.distplot(x_clipped)"
      ],
      "execution_count": 94,
      "outputs": [
        {
          "output_type": "execute_result",
          "data": {
            "text/plain": [
              "<matplotlib.axes._subplots.AxesSubplot at 0x7fec63830c18>"
            ]
          },
          "metadata": {
            "tags": []
          },
          "execution_count": 94
        },
        {
          "output_type": "display_data",
          "data": {
            "image/png": "[encoded data removed]",
            "text/plain": [
              "<Figure size 432x288 with 1 Axes>"
            ]
          },
          "metadata": {
            "tags": []
          }
        }
      ]
    }
  ]
}